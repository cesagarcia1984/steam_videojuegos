{
 "cells": [
  {
   "cell_type": "code",
   "execution_count": 1,
   "metadata": {},
   "outputs": [],
   "source": [
    "import pandas as pd \n",
    "\n",
    "# se importa el archivo creado en la subcarpeta ETL y se crea un dataframe \n",
    "users_items = pd.read_parquet(\"D:/Users/Cesar/Desktop/Proyecto_individial_1/Data_ingeneria/ETL/users_items_ETL\")\n",
    "users_items.replace({None: pd.NA}, inplace=True)\n",
    "users_items.to_parquet(\"users_items\",index=False)"
   ]
  },
  {
   "cell_type": "code",
   "execution_count": 2,
   "metadata": {},
   "outputs": [
    {
     "data": {
      "text/html": [
       "<div>\n",
       "<style scoped>\n",
       "    .dataframe tbody tr th:only-of-type {\n",
       "        vertical-align: middle;\n",
       "    }\n",
       "\n",
       "    .dataframe tbody tr th {\n",
       "        vertical-align: top;\n",
       "    }\n",
       "\n",
       "    .dataframe thead th {\n",
       "        text-align: right;\n",
       "    }\n",
       "</style>\n",
       "<table border=\"1\" class=\"dataframe\">\n",
       "  <thead>\n",
       "    <tr style=\"text-align: right;\">\n",
       "      <th></th>\n",
       "      <th>user_id</th>\n",
       "      <th>steam_id</th>\n",
       "      <th>item_id</th>\n",
       "      <th>item_name</th>\n",
       "      <th>playtime_forever</th>\n",
       "    </tr>\n",
       "  </thead>\n",
       "  <tbody>\n",
       "    <tr>\n",
       "      <th>0</th>\n",
       "      <td>76561197970982479</td>\n",
       "      <td>76561197970982479</td>\n",
       "      <td>10</td>\n",
       "      <td>Counter-Strike</td>\n",
       "      <td>6</td>\n",
       "    </tr>\n",
       "    <tr>\n",
       "      <th>1</th>\n",
       "      <td>76561197970982479</td>\n",
       "      <td>76561197970982479</td>\n",
       "      <td>20</td>\n",
       "      <td>Team Fortress Classic</td>\n",
       "      <td>0</td>\n",
       "    </tr>\n",
       "  </tbody>\n",
       "</table>\n",
       "</div>"
      ],
      "text/plain": [
       "             user_id           steam_id  item_id              item_name  \\\n",
       "0  76561197970982479  76561197970982479       10         Counter-Strike   \n",
       "1  76561197970982479  76561197970982479       20  Team Fortress Classic   \n",
       "\n",
       "   playtime_forever  \n",
       "0                 6  \n",
       "1                 0  "
      ]
     },
     "execution_count": 2,
     "metadata": {},
     "output_type": "execute_result"
    }
   ],
   "source": [
    "users_items.head(2)"
   ]
  },
  {
   "cell_type": "code",
   "execution_count": 3,
   "metadata": {},
   "outputs": [
    {
     "name": "stdout",
     "output_type": "stream",
     "text": [
      "count    5.153209e+06\n",
      "mean     9.914951e+02\n",
      "std      5.418204e+03\n",
      "min      0.000000e+00\n",
      "25%      0.000000e+00\n",
      "50%      3.400000e+01\n",
      "75%      3.550000e+02\n",
      "max      6.427730e+05\n",
      "Name: playtime_forever, dtype: float64\n"
     ]
    }
   ],
   "source": [
    "print(users_items['playtime_forever'].describe())\n"
   ]
  },
  {
   "cell_type": "code",
   "execution_count": 4,
   "metadata": {},
   "outputs": [
    {
     "data": {
      "image/png": "[encoded data removed]",
      "text/plain": [
       "<Figure size 640x480 with 1 Axes>"
      ]
     },
     "metadata": {},
     "output_type": "display_data"
    }
   ],
   "source": [
    "import matplotlib.pyplot as plt\n",
    "\n",
    "# Suponiendo que ya tienes el DataFrame users_items\n",
    "# users_items = ...\n",
    "\n",
    "# Crear un histograma\n",
    "plt.hist(users_items['playtime_forever'], bins=20, edgecolor='black')\n",
    "\n",
    "# Configurar etiquetas y título\n",
    "plt.xlabel('Playtime Forever')\n",
    "plt.ylabel('Frecuencia')\n",
    "plt.title('Distribución de Playtime Forever')\n",
    "\n",
    "# Mostrar el histograma\n",
    "plt.show()\n"
   ]
  },
  {
   "cell_type": "code",
   "execution_count": 5,
   "metadata": {},
   "outputs": [
    {
     "data": {
      "text/html": [
       "<div>\n",
       "<style scoped>\n",
       "    .dataframe tbody tr th:only-of-type {\n",
       "        vertical-align: middle;\n",
       "    }\n",
       "\n",
       "    .dataframe tbody tr th {\n",
       "        vertical-align: top;\n",
       "    }\n",
       "\n",
       "    .dataframe thead th {\n",
       "        text-align: right;\n",
       "    }\n",
       "</style>\n",
       "<table border=\"1\" class=\"dataframe\">\n",
       "  <thead>\n",
       "    <tr style=\"text-align: right;\">\n",
       "      <th></th>\n",
       "      <th>user_id</th>\n",
       "      <th>steam_id</th>\n",
       "      <th>item_id</th>\n",
       "      <th>item_name</th>\n",
       "      <th>playtime_forever</th>\n",
       "    </tr>\n",
       "  </thead>\n",
       "  <tbody>\n",
       "    <tr>\n",
       "      <th>0</th>\n",
       "      <td>76561197970982479</td>\n",
       "      <td>76561197970982479</td>\n",
       "      <td>10</td>\n",
       "      <td>Counter-Strike</td>\n",
       "      <td>6</td>\n",
       "    </tr>\n",
       "    <tr>\n",
       "      <th>1</th>\n",
       "      <td>76561197970982479</td>\n",
       "      <td>76561197970982479</td>\n",
       "      <td>20</td>\n",
       "      <td>Team Fortress Classic</td>\n",
       "      <td>0</td>\n",
       "    </tr>\n",
       "    <tr>\n",
       "      <th>2</th>\n",
       "      <td>76561197970982479</td>\n",
       "      <td>76561197970982479</td>\n",
       "      <td>30</td>\n",
       "      <td>Day of Defeat</td>\n",
       "      <td>7</td>\n",
       "    </tr>\n",
       "    <tr>\n",
       "      <th>3</th>\n",
       "      <td>76561197970982479</td>\n",
       "      <td>76561197970982479</td>\n",
       "      <td>40</td>\n",
       "      <td>Deathmatch Classic</td>\n",
       "      <td>0</td>\n",
       "    </tr>\n",
       "    <tr>\n",
       "      <th>4</th>\n",
       "      <td>76561197970982479</td>\n",
       "      <td>76561197970982479</td>\n",
       "      <td>50</td>\n",
       "      <td>Half-Life: Opposing Force</td>\n",
       "      <td>0</td>\n",
       "    </tr>\n",
       "    <tr>\n",
       "      <th>...</th>\n",
       "      <td>...</td>\n",
       "      <td>...</td>\n",
       "      <td>...</td>\n",
       "      <td>...</td>\n",
       "      <td>...</td>\n",
       "    </tr>\n",
       "    <tr>\n",
       "      <th>5153204</th>\n",
       "      <td>76561198329548331</td>\n",
       "      <td>76561198329548331</td>\n",
       "      <td>346330</td>\n",
       "      <td>BrainBread 2</td>\n",
       "      <td>0</td>\n",
       "    </tr>\n",
       "    <tr>\n",
       "      <th>5153205</th>\n",
       "      <td>76561198329548331</td>\n",
       "      <td>76561198329548331</td>\n",
       "      <td>373330</td>\n",
       "      <td>All Is Dust</td>\n",
       "      <td>0</td>\n",
       "    </tr>\n",
       "    <tr>\n",
       "      <th>5153206</th>\n",
       "      <td>76561198329548331</td>\n",
       "      <td>76561198329548331</td>\n",
       "      <td>388490</td>\n",
       "      <td>One Way To Die: Steam Edition</td>\n",
       "      <td>3</td>\n",
       "    </tr>\n",
       "    <tr>\n",
       "      <th>5153207</th>\n",
       "      <td>76561198329548331</td>\n",
       "      <td>76561198329548331</td>\n",
       "      <td>521570</td>\n",
       "      <td>You Have 10 Seconds 2</td>\n",
       "      <td>4</td>\n",
       "    </tr>\n",
       "    <tr>\n",
       "      <th>5153208</th>\n",
       "      <td>76561198329548331</td>\n",
       "      <td>76561198329548331</td>\n",
       "      <td>519140</td>\n",
       "      <td>Minds Eyes</td>\n",
       "      <td>3</td>\n",
       "    </tr>\n",
       "  </tbody>\n",
       "</table>\n",
       "<p>5153209 rows × 5 columns</p>\n",
       "</div>"
      ],
      "text/plain": [
       "                   user_id           steam_id  item_id  \\\n",
       "0        76561197970982479  76561197970982479       10   \n",
       "1        76561197970982479  76561197970982479       20   \n",
       "2        76561197970982479  76561197970982479       30   \n",
       "3        76561197970982479  76561197970982479       40   \n",
       "4        76561197970982479  76561197970982479       50   \n",
       "...                    ...                ...      ...   \n",
       "5153204  76561198329548331  76561198329548331   346330   \n",
       "5153205  76561198329548331  76561198329548331   373330   \n",
       "5153206  76561198329548331  76561198329548331   388490   \n",
       "5153207  76561198329548331  76561198329548331   521570   \n",
       "5153208  76561198329548331  76561198329548331   519140   \n",
       "\n",
       "                             item_name  playtime_forever  \n",
       "0                       Counter-Strike                 6  \n",
       "1                Team Fortress Classic                 0  \n",
       "2                        Day of Defeat                 7  \n",
       "3                   Deathmatch Classic                 0  \n",
       "4            Half-Life: Opposing Force                 0  \n",
       "...                                ...               ...  \n",
       "5153204                   BrainBread 2                 0  \n",
       "5153205                    All Is Dust                 0  \n",
       "5153206  One Way To Die: Steam Edition                 3  \n",
       "5153207          You Have 10 Seconds 2                 4  \n",
       "5153208                     Minds Eyes                 3  \n",
       "\n",
       "[5153209 rows x 5 columns]"
      ]
     },
     "execution_count": 5,
     "metadata": {},
     "output_type": "execute_result"
    }
   ],
   "source": [
    "users_items"
   ]
  }
 ],
 "metadata": {
  "kernelspec": {
   "display_name": "Python 3",
   "language": "python",
   "name": "python3"
  },
  "language_info": {
   "codemirror_mode": {
    "name": "ipython",
    "version": 3
   },
   "file_extension": ".py",
   "mimetype": "text/x-python",
   "name": "python",
   "nbconvert_exporter": "python",
   "pygments_lexer": "ipython3",
   "version": "3.11.5"
  }
 },
 "nbformat": 4,
 "nbformat_minor": 2
}
