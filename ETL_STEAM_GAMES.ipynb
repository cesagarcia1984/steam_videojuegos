{
 "cells": [
  {
   "cell_type": "code",
   "execution_count": 25,
   "metadata": {},
   "outputs": [],
   "source": [
    "import pandas as pd\n",
    "\n",
    "# Leer el archivo JSON comprimido con gzip y convertirlo a un DataFrame de pandas\n",
    "steam_games = pd.read_csv(\"D:\\\\Users\\\\Cesar\\\\Desktop\\\\Proyecto_individial_1\\\\Data_ingeneria\\\\ETL\\\\steam_games_ETL\")"
   ]
  },
  {
   "cell_type": "code",
   "execution_count": 26,
   "metadata": {},
   "outputs": [],
   "source": [
    "# se remplasan valores nulos con \"sin informcion\"\n",
    "steam_games = steam_games.fillna(\"Sin Información\")"
   ]
  },
  {
   "cell_type": "code",
   "execution_count": 27,
   "metadata": {},
   "outputs": [
    {
     "data": {
      "text/html": [
       "<div>\n",
       "<style scoped>\n",
       "    .dataframe tbody tr th:only-of-type {\n",
       "        vertical-align: middle;\n",
       "    }\n",
       "\n",
       "    .dataframe tbody tr th {\n",
       "        vertical-align: top;\n",
       "    }\n",
       "\n",
       "    .dataframe thead th {\n",
       "        text-align: right;\n",
       "    }\n",
       "</style>\n",
       "<table border=\"1\" class=\"dataframe\">\n",
       "  <thead>\n",
       "    <tr style=\"text-align: right;\">\n",
       "      <th></th>\n",
       "      <th>Unnamed: 0</th>\n",
       "      <th>publisher</th>\n",
       "      <th>genres</th>\n",
       "      <th>app_name</th>\n",
       "      <th>item_id</th>\n",
       "      <th>release_year</th>\n",
       "    </tr>\n",
       "  </thead>\n",
       "  <tbody>\n",
       "    <tr>\n",
       "      <th>0</th>\n",
       "      <td>0</td>\n",
       "      <td>Sin Información</td>\n",
       "      <td>Sin Información</td>\n",
       "      <td>Sin Información</td>\n",
       "      <td>0</td>\n",
       "      <td>0</td>\n",
       "    </tr>\n",
       "    <tr>\n",
       "      <th>1</th>\n",
       "      <td>1</td>\n",
       "      <td>Sin Información</td>\n",
       "      <td>Sin Información</td>\n",
       "      <td>Sin Información</td>\n",
       "      <td>0</td>\n",
       "      <td>0</td>\n",
       "    </tr>\n",
       "  </tbody>\n",
       "</table>\n",
       "</div>"
      ],
      "text/plain": [
       "   Unnamed: 0        publisher           genres         app_name  item_id  \\\n",
       "0           0  Sin Información  Sin Información  Sin Información        0   \n",
       "1           1  Sin Información  Sin Información  Sin Información        0   \n",
       "\n",
       "   release_year  \n",
       "0             0  \n",
       "1             0  "
      ]
     },
     "execution_count": 27,
     "metadata": {},
     "output_type": "execute_result"
    }
   ],
   "source": [
    "# esta linea de codigo muestra las 5 primeras filas para analizar la dataframe \n",
    "steam_games.head(2)"
   ]
  },
  {
   "cell_type": "code",
   "execution_count": 28,
   "metadata": {},
   "outputs": [
    {
     "name": "stdout",
     "output_type": "stream",
     "text": [
      "<class 'pandas.core.frame.DataFrame'>\n",
      "RangeIndex: 120445 entries, 0 to 120444\n",
      "Data columns (total 6 columns):\n",
      " #   Column        Non-Null Count   Dtype \n",
      "---  ------        --------------   ----- \n",
      " 0   Unnamed: 0    120445 non-null  int64 \n",
      " 1   publisher     120445 non-null  object\n",
      " 2   genres        120445 non-null  object\n",
      " 3   app_name      120445 non-null  object\n",
      " 4   item_id       120445 non-null  int64 \n",
      " 5   release_year  120445 non-null  int64 \n",
      "dtypes: int64(3), object(3)\n",
      "memory usage: 5.5+ MB\n"
     ]
    }
   ],
   "source": [
    "# esta linea de codigo muestra informacion de la tabla  para revisar las columnas y \n",
    "# determinar que columna se nesesita segun las consignas y tipo de dato que se nesesita para\n",
    "# hacer las funciones de las consultas\n",
    "steam_games.info()"
   ]
  },
  {
   "cell_type": "code",
   "execution_count": 30,
   "metadata": {},
   "outputs": [],
   "source": [
    "# segun el analisis es coveniente renombrar la columna \"id\" a \"item_id\" ya que en otras tablas estan con ese nombre y\n",
    "# es importante para futuras consultas, ademas la columna es tipo float con datos json en un dataframe que estan anidados\n",
    "\n",
    "# se cambia el nombre columna \"id\" a \"item_id\"\n",
    "steam_games.rename(columns={'id': 'item_id'}, inplace=True)\n",
    "# se crea una lista con los datos anidados \n",
    "steam_games['item_id'] = steam_games['item_id'].apply(lambda x: str(x).split(',') if pd.notnull(x) else x)\n",
    "# se deasnida \n",
    "steam_games = steam_games.explode('item_id').reset_index(drop=True)\n",
    "# se convierte a numero la columna \n",
    "steam_games['item_id'] = pd.to_numeric(steam_games['item_id'], errors='coerce')\n",
    "# se quitan los decimales dejando un entero \n",
    "steam_games['item_id'] = steam_games['item_id'].fillna(0).astype(int)\n"
   ]
  },
  {
   "cell_type": "code",
   "execution_count": 32,
   "metadata": {},
   "outputs": [],
   "source": [
    "# esta linea de codigo se combierte los valores None en NaN para no tener problemas al unir varios dataframe para las\n",
    "# consultas debido a que NaN tiene una representación consistente de valores faltantes ayudará a evitar problemas al \n",
    "# trabajar con diferentes DataFrames que pueden tener diferentes representaciones de valores nulos.\n",
    "steam_games.replace({None: pd.NA}, inplace=True)\n"
   ]
  },
  {
   "cell_type": "code",
   "execution_count": 34,
   "metadata": {},
   "outputs": [
    {
     "data": {
      "text/plain": [
       "Unnamed: 0      0\n",
       "publisher       0\n",
       "genres          0\n",
       "app_name        0\n",
       "item_id         0\n",
       "release_year    0\n",
       "dtype: int64"
      ]
     },
     "execution_count": 34,
     "metadata": {},
     "output_type": "execute_result"
    }
   ],
   "source": [
    "# una vez relizadas las transformciones de tipo de datos,renombrar columnas y eliminar columnas para facilitar las consultas\n",
    "# procedemos hacer analisis de nulos,valores duplicados,valores faltantes,analisis estadisticos de datos,correlaciones \n",
    "\n",
    "# para esta linea de codigo vamos a contar los nulos por cada columna \n",
    "\n",
    "steam_games.isnull().sum()\n",
    "\n",
    "# notamos  que los valores nulos de \"item_id\" y \"release_year\"  fueron remplazados por 0 al comvertirlos a enteros en pandas\n",
    "# el resto de las columnas del nuevo data frame tienen mucho nulos del total de filas que son 120445 lo cual no vamos a\n",
    "# borar debido a que son muchos y pueden afectar los datos de otras tablas y las mismas consultas "
   ]
  },
  {
   "cell_type": "code",
   "execution_count": 35,
   "metadata": {},
   "outputs": [
    {
     "data": {
      "text/plain": [
       "0"
      ]
     },
     "execution_count": 35,
     "metadata": {},
     "output_type": "execute_result"
    }
   ],
   "source": [
    "# para valores duplicados podriamos utilizar la siguiente linea \n",
    "\n",
    "steam_games.duplicated().sum()\n"
   ]
  },
  {
   "cell_type": "code",
   "execution_count": 36,
   "metadata": {},
   "outputs": [
    {
     "name": "stdout",
     "output_type": "stream",
     "text": [
      "<class 'pandas.core.frame.DataFrame'>\n",
      "RangeIndex: 120445 entries, 0 to 120444\n",
      "Data columns (total 6 columns):\n",
      " #   Column        Non-Null Count   Dtype \n",
      "---  ------        --------------   ----- \n",
      " 0   Unnamed: 0    120445 non-null  int64 \n",
      " 1   publisher     120445 non-null  object\n",
      " 2   genres        120445 non-null  object\n",
      " 3   app_name      120445 non-null  object\n",
      " 4   item_id       120445 non-null  int32 \n",
      " 5   release_year  120445 non-null  int64 \n",
      "dtypes: int32(1), int64(2), object(3)\n",
      "memory usage: 5.1+ MB\n"
     ]
    }
   ],
   "source": [
    "steam_games.info()"
   ]
  },
  {
   "cell_type": "code",
   "execution_count": 37,
   "metadata": {},
   "outputs": [],
   "source": [
    "# Elimina la columna \"Unnamed: 0\"\n",
    "steam_games = steam_games.drop(columns=['Unnamed: 0'])\n"
   ]
  },
  {
   "cell_type": "code",
   "execution_count": 38,
   "metadata": {},
   "outputs": [],
   "source": [
    "steam_games.to_csv(\"steam_games_ETL\")"
   ]
  },
  {
   "cell_type": "code",
   "execution_count": 39,
   "metadata": {},
   "outputs": [
    {
     "data": {
      "text/html": [
       "<div>\n",
       "<style scoped>\n",
       "    .dataframe tbody tr th:only-of-type {\n",
       "        vertical-align: middle;\n",
       "    }\n",
       "\n",
       "    .dataframe tbody tr th {\n",
       "        vertical-align: top;\n",
       "    }\n",
       "\n",
       "    .dataframe thead th {\n",
       "        text-align: right;\n",
       "    }\n",
       "</style>\n",
       "<table border=\"1\" class=\"dataframe\">\n",
       "  <thead>\n",
       "    <tr style=\"text-align: right;\">\n",
       "      <th></th>\n",
       "      <th>publisher</th>\n",
       "      <th>genres</th>\n",
       "      <th>app_name</th>\n",
       "      <th>item_id</th>\n",
       "      <th>release_year</th>\n",
       "    </tr>\n",
       "  </thead>\n",
       "  <tbody>\n",
       "    <tr>\n",
       "      <th>0</th>\n",
       "      <td>Sin Información</td>\n",
       "      <td>Sin Información</td>\n",
       "      <td>Sin Información</td>\n",
       "      <td>0</td>\n",
       "      <td>0</td>\n",
       "    </tr>\n",
       "    <tr>\n",
       "      <th>1</th>\n",
       "      <td>Sin Información</td>\n",
       "      <td>Sin Información</td>\n",
       "      <td>Sin Información</td>\n",
       "      <td>0</td>\n",
       "      <td>0</td>\n",
       "    </tr>\n",
       "    <tr>\n",
       "      <th>2</th>\n",
       "      <td>Sin Información</td>\n",
       "      <td>Sin Información</td>\n",
       "      <td>Sin Información</td>\n",
       "      <td>0</td>\n",
       "      <td>0</td>\n",
       "    </tr>\n",
       "    <tr>\n",
       "      <th>3</th>\n",
       "      <td>Sin Información</td>\n",
       "      <td>Sin Información</td>\n",
       "      <td>Sin Información</td>\n",
       "      <td>0</td>\n",
       "      <td>0</td>\n",
       "    </tr>\n",
       "    <tr>\n",
       "      <th>4</th>\n",
       "      <td>Sin Información</td>\n",
       "      <td>Sin Información</td>\n",
       "      <td>Sin Información</td>\n",
       "      <td>0</td>\n",
       "      <td>0</td>\n",
       "    </tr>\n",
       "    <tr>\n",
       "      <th>...</th>\n",
       "      <td>...</td>\n",
       "      <td>...</td>\n",
       "      <td>...</td>\n",
       "      <td>...</td>\n",
       "      <td>...</td>\n",
       "    </tr>\n",
       "    <tr>\n",
       "      <th>120440</th>\n",
       "      <td>Ghost_RUS Games</td>\n",
       "      <td>['Casual', 'Indie', 'Simulation', 'Strategy']</td>\n",
       "      <td>Colony On Mars</td>\n",
       "      <td>773640</td>\n",
       "      <td>2018</td>\n",
       "    </tr>\n",
       "    <tr>\n",
       "      <th>120441</th>\n",
       "      <td>Sacada</td>\n",
       "      <td>['Casual', 'Indie', 'Strategy']</td>\n",
       "      <td>LOGistICAL: South Africa</td>\n",
       "      <td>733530</td>\n",
       "      <td>2018</td>\n",
       "    </tr>\n",
       "    <tr>\n",
       "      <th>120442</th>\n",
       "      <td>Laush Studio</td>\n",
       "      <td>['Indie', 'Racing', 'Simulation']</td>\n",
       "      <td>Russian Roads</td>\n",
       "      <td>610660</td>\n",
       "      <td>2018</td>\n",
       "    </tr>\n",
       "    <tr>\n",
       "      <th>120443</th>\n",
       "      <td>SIXNAILS</td>\n",
       "      <td>['Casual', 'Indie']</td>\n",
       "      <td>EXIT 2 - Directions</td>\n",
       "      <td>658870</td>\n",
       "      <td>2017</td>\n",
       "    </tr>\n",
       "    <tr>\n",
       "      <th>120444</th>\n",
       "      <td>Sin Información</td>\n",
       "      <td>Sin Información</td>\n",
       "      <td>Maze Run VR</td>\n",
       "      <td>681550</td>\n",
       "      <td>0</td>\n",
       "    </tr>\n",
       "  </tbody>\n",
       "</table>\n",
       "<p>120445 rows × 5 columns</p>\n",
       "</div>"
      ],
      "text/plain": [
       "              publisher                                         genres  \\\n",
       "0       Sin Información                                Sin Información   \n",
       "1       Sin Información                                Sin Información   \n",
       "2       Sin Información                                Sin Información   \n",
       "3       Sin Información                                Sin Información   \n",
       "4       Sin Información                                Sin Información   \n",
       "...                 ...                                            ...   \n",
       "120440  Ghost_RUS Games  ['Casual', 'Indie', 'Simulation', 'Strategy']   \n",
       "120441           Sacada                ['Casual', 'Indie', 'Strategy']   \n",
       "120442     Laush Studio              ['Indie', 'Racing', 'Simulation']   \n",
       "120443         SIXNAILS                            ['Casual', 'Indie']   \n",
       "120444  Sin Información                                Sin Información   \n",
       "\n",
       "                        app_name  item_id  release_year  \n",
       "0                Sin Información        0             0  \n",
       "1                Sin Información        0             0  \n",
       "2                Sin Información        0             0  \n",
       "3                Sin Información        0             0  \n",
       "4                Sin Información        0             0  \n",
       "...                          ...      ...           ...  \n",
       "120440            Colony On Mars   773640          2018  \n",
       "120441  LOGistICAL: South Africa   733530          2018  \n",
       "120442             Russian Roads   610660          2018  \n",
       "120443       EXIT 2 - Directions   658870          2017  \n",
       "120444               Maze Run VR   681550             0  \n",
       "\n",
       "[120445 rows x 5 columns]"
      ]
     },
     "execution_count": 39,
     "metadata": {},
     "output_type": "execute_result"
    }
   ],
   "source": [
    "steam_games"
   ]
  }
 ],
 "metadata": {
  "kernelspec": {
   "display_name": "Python 3",
   "language": "python",
   "name": "python3"
  },
  "language_info": {
   "codemirror_mode": {
    "name": "ipython",
    "version": 3
   },
   "file_extension": ".py",
   "mimetype": "text/x-python",
   "name": "python",
   "nbconvert_exporter": "python",
   "pygments_lexer": "ipython3",
   "version": "3.11.5"
  }
 },
 "nbformat": 4,
 "nbformat_minor": 2
}
